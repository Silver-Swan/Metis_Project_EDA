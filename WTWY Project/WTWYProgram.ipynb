{
 "cells": [
  {
   "cell_type": "code",
   "execution_count": null,
   "id": "a954ca28",
   "metadata": {},
   "outputs": [],
   "source": [
    "# Import pandas\n",
    "from splalchemy import create_engine\n",
    "import pandas as pd\n",
    "engine = create_engine(\"sqlite://mta_data.db\")\n",
    "df = pd.read_sql('select * from mta_data;', engine)"
   ]
  }
 ],
 "metadata": {
  "kernelspec": {
   "display_name": "Python 3 (ipykernel)",
   "language": "python",
   "name": "python3"
  },
  "language_info": {
   "codemirror_mode": {
    "name": "ipython",
    "version": 3
   },
   "file_extension": ".py",
   "mimetype": "text/x-python",
   "name": "python",
   "nbconvert_exporter": "python",
   "pygments_lexer": "ipython3",
   "version": "3.8.10"
  }
 },
 "nbformat": 4,
 "nbformat_minor": 5
}
